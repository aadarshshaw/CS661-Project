{
 "cells": [
  {
   "cell_type": "code",
   "execution_count": 5,
   "metadata": {},
   "outputs": [],
   "source": [
    "import numpy as np\n",
    "import pandas as pd\n",
    "import plotly.graph_objects as go\n",
    "import ipywidgets as widgets"
   ]
  },
  {
   "cell_type": "code",
   "execution_count": 6,
   "metadata": {},
   "outputs": [
    {
     "data": {
      "text/plain": [
       "'\\n- Highest, Lowest Correlation values and countries\\n- Average correlation value\\n'"
      ]
     },
     "execution_count": 6,
     "metadata": {},
     "output_type": "execute_result"
    }
   ],
   "source": [
    "\"\"\"\n",
    "- Highest, Lowest Correlation values and countries\n",
    "- Average correlation value\n",
    "\"\"\""
   ]
  },
  {
   "cell_type": "code",
   "execution_count": 7,
   "metadata": {},
   "outputs": [],
   "source": [
    "emm_gdp = pd.read_excel(\"Datasets\\GDP\\Correlation - Emissions vs GDP.xlsx\", sheet_name=\"Correlation-Country\")\n",
    "countries = emm_gdp[\"Country\"]"
   ]
  },
  {
   "cell_type": "code",
   "execution_count": 8,
   "metadata": {},
   "outputs": [
    {
     "data": {
      "text/html": [
       "<div>\n",
       "<style scoped>\n",
       "    .dataframe tbody tr th:only-of-type {\n",
       "        vertical-align: middle;\n",
       "    }\n",
       "\n",
       "    .dataframe tbody tr th {\n",
       "        vertical-align: top;\n",
       "    }\n",
       "\n",
       "    .dataframe thead th {\n",
       "        text-align: right;\n",
       "    }\n",
       "</style>\n",
       "<table border=\"1\" class=\"dataframe\">\n",
       "  <thead>\n",
       "    <tr style=\"text-align: right;\">\n",
       "      <th></th>\n",
       "      <th>Continent</th>\n",
       "      <th>Country</th>\n",
       "      <th>Rho</th>\n",
       "    </tr>\n",
       "  </thead>\n",
       "  <tbody>\n",
       "    <tr>\n",
       "      <th>0</th>\n",
       "      <td>Asia</td>\n",
       "      <td>Afghanistan</td>\n",
       "      <td>0.951424</td>\n",
       "    </tr>\n",
       "    <tr>\n",
       "      <th>1</th>\n",
       "      <td>Europe</td>\n",
       "      <td>Albania</td>\n",
       "      <td>0.856674</td>\n",
       "    </tr>\n",
       "    <tr>\n",
       "      <th>2</th>\n",
       "      <td>Africa</td>\n",
       "      <td>Algeria</td>\n",
       "      <td>0.965019</td>\n",
       "    </tr>\n",
       "    <tr>\n",
       "      <th>3</th>\n",
       "      <td>Africa</td>\n",
       "      <td>Angola</td>\n",
       "      <td>0.910677</td>\n",
       "    </tr>\n",
       "    <tr>\n",
       "      <th>4</th>\n",
       "      <td>South America</td>\n",
       "      <td>Argentina</td>\n",
       "      <td>0.962716</td>\n",
       "    </tr>\n",
       "  </tbody>\n",
       "</table>\n",
       "</div>"
      ],
      "text/plain": [
       "       Continent      Country       Rho\n",
       "0           Asia  Afghanistan  0.951424\n",
       "1         Europe      Albania  0.856674\n",
       "2         Africa      Algeria  0.965019\n",
       "3         Africa       Angola  0.910677\n",
       "4  South America    Argentina  0.962716"
      ]
     },
     "execution_count": 8,
     "metadata": {},
     "output_type": "execute_result"
    }
   ],
   "source": [
    "emm_gdp.head()"
   ]
  },
  {
   "cell_type": "code",
   "execution_count": 13,
   "metadata": {},
   "outputs": [
    {
     "data": {
      "text/plain": [
       "array(['Asia', 'Europe', 'Africa', 'South America', 'Oceania',\n",
       "       'North America'], dtype=object)"
      ]
     },
     "execution_count": 13,
     "metadata": {},
     "output_type": "execute_result"
    }
   ],
   "source": [
    "continents = emm_gdp[\"Continent\"].unique()"
   ]
  },
  {
   "cell_type": "code",
   "execution_count": 21,
   "metadata": {},
   "outputs": [
    {
     "data": {
      "application/vnd.jupyter.widget-view+json": {
       "model_id": "a244f02c4b48482d89da140d2d79ecd1",
       "version_major": 2,
       "version_minor": 0
      },
      "text/plain": [
       "FigureWidget({\n",
       "    'data': [{'colorscale': [[0.0, 'rgb(5,48,97)'], [0.1, 'rgb(33,102,172)'],\n",
       "                             [0.2, 'rgb(67,147,195)'], [0.3, 'rgb(146,197,222)'],\n",
       "                             [0.4, 'rgb(209,229,240)'], [0.5, 'rgb(247,247,247)'],\n",
       "                             [0.6, 'rgb(253,219,199)'], [0.7, 'rgb(244,165,130)'],\n",
       "                             [0.8, 'rgb(214,96,77)'], [0.9, 'rgb(178,24,43)'],\n",
       "                             [1.0, 'rgb(103,0,31)']],\n",
       "              'locationmode': 'country names',\n",
       "              'locations': array(['Afghanistan', 'Albania', 'Algeria', 'Angola', 'Argentina', 'Armenia',\n",
       "                                  'Australia', 'Austria', 'Azerbaijan', 'Bahrain', 'Bangladesh',\n",
       "                                  'Barbados', 'Belarus', 'Belgium', 'Benin', 'Bolivia',\n",
       "                                  'Bosnia and Herzegovina', 'Botswana', 'Brazil', 'Bulgaria',\n",
       "                                  'Burkina Faso', 'Burundi', 'Cambodia', 'Cameroon', 'Canada',\n",
       "                                  'Cape Verde', 'Central African Republic', 'Chad', 'Chile', 'China',\n",
       "                                  'Colombia', 'Comoros', 'Congo', 'Costa Rica', \"Cote d'Ivoire\",\n",
       "                                  'Croatia', 'Cuba', 'Cyprus', 'Czechia', 'Democratic Republic of Congo',\n",
       "                                  'Denmark', 'Djibouti', 'Dominica', 'Dominican Republic', 'Ecuador',\n",
       "                                  'Egypt', 'El Salvador', 'Equatorial Guinea', 'Estonia', 'Eswatini',\n",
       "                                  'Ethiopia', 'Finland', 'France', 'Gabon', 'Gambia', 'Georgia',\n",
       "                                  'Germany', 'Ghana', 'Greece', 'Guatemala', 'Guinea', 'Guinea-Bissau',\n",
       "                                  'Haiti', 'Honduras', 'Hong Kong', 'Hungary', 'Iceland', 'India',\n",
       "                                  'Indonesia', 'Iran', 'Iraq', 'Ireland', 'Israel', 'Italy', 'Jamaica',\n",
       "                                  'Japan', 'Jordan', 'Kazakhstan', 'Kenya', 'Kuwait', 'Kyrgyzstan',\n",
       "                                  'Laos', 'Latvia', 'Lebanon', 'Lesotho', 'Liberia', 'Libya', 'Lithuania',\n",
       "                                  'Luxembourg', 'Madagascar', 'Malawi', 'Malaysia', 'Mali', 'Malta',\n",
       "                                  'Mauritania', 'Mauritius', 'Mexico', 'Moldova', 'Mongolia',\n",
       "                                  'Montenegro', 'Morocco', 'Mozambique', 'Myanmar', 'Namibia', 'Nepal',\n",
       "                                  'Netherlands', 'New Zealand', 'Nicaragua', 'Niger', 'Nigeria',\n",
       "                                  'North Korea', 'North Macedonia', 'Norway', 'Oman', 'Pakistan',\n",
       "                                  'Palestine', 'Panama', 'Paraguay', 'Peru', 'Philippines', 'Poland',\n",
       "                                  'Portugal', 'Puerto Rico', 'Qatar', 'Romania', 'Russia', 'Rwanda',\n",
       "                                  'Saint Lucia', 'Sao Tome and Principe', 'Saudi Arabia', 'Senegal',\n",
       "                                  'Serbia', 'Seychelles', 'Sierra Leone', 'Singapore', 'Slovakia',\n",
       "                                  'Slovenia', 'South Africa', 'South Korea', 'Spain', 'Sri Lanka',\n",
       "                                  'Sweden', 'Switzerland', 'Syria', 'Taiwan', 'Tajikistan', 'Tanzania',\n",
       "                                  'Thailand', 'Togo', 'Trinidad and Tobago', 'Tunisia', 'Turkey',\n",
       "                                  'Turkmenistan', 'Uganda', 'Ukraine', 'United Arab Emirates',\n",
       "                                  'United Kingdom', 'United States', 'Uruguay', 'Uzbekistan', 'Venezuela',\n",
       "                                  'Vietnam', 'World', 'Yemen', 'Zambia', 'Zimbabwe'], dtype=object),\n",
       "              'marker': {'line': {'color': 'rgb(0,0,0)', 'width': 1}},\n",
       "              'type': 'choropleth',\n",
       "              'uid': 'f67aabef-9fdd-448a-8ba3-d26a1315ab7e',\n",
       "              'z': array([ 0.95142376,  0.85667398,  0.96501862,  0.91067661,  0.96271554,\n",
       "                           0.92928105,  0.88668114, -0.3086879 ,  0.51287985,  0.94280353,\n",
       "                           0.9967727 ,  0.3620542 ,  0.80638905, -0.88875242,  0.96508226,\n",
       "                           0.9881712 ,  0.89566794,  0.89565458,  0.95487578, -0.09294296,\n",
       "                           0.98614976,  0.74497897,  0.95961957,  0.9336151 ,  0.16850144,\n",
       "                           0.84458261,  0.22987171,  0.98035272,  0.96435501,  0.97401509,\n",
       "                           0.95575862,  0.83331215,  0.87217365,  0.83421437,  0.85982676,\n",
       "                          -0.13116857,  0.36122871,  0.41797964, -0.74529564,  0.74492163,\n",
       "                          -0.83484622,  0.20293735,  0.86574492,  0.87610275,  0.96300927,\n",
       "                           0.9763262 ,  0.44142438,  0.83810883,  0.56485661, -0.28148496,\n",
       "                           0.98720617, -0.42060052, -0.85765488, -0.0645899 ,  0.96094743,\n",
       "                           0.9630996 , -0.91440012,  0.95964226,  0.57735146,  0.89248906,\n",
       "                           0.9429193 ,  0.93999162,  0.95457183,  0.97249867,  0.51021407,\n",
       "                          -0.75752568,  0.81939699,  0.99744028,  0.97991097,  0.9535041 ,\n",
       "                           0.86320655, -0.54441527,  0.23689119, -0.20413589, -0.05153404,\n",
       "                          -0.33339284,  0.9596814 ,  0.98383535,  0.94193761,  0.90908996,\n",
       "                           0.93430576,  0.86339082,  0.22331436,  0.83530207,  0.59797532,\n",
       "                           0.26922987,  0.25521285,  0.41643665, -0.05533258,  0.85499887,\n",
       "                           0.82837369,  0.9702264 ,  0.96617062, -0.89904164,  0.94897253,\n",
       "                           0.94911414,  0.82543538,  0.75010897,  0.9003722 ,  0.7292575 ,\n",
       "                           0.9739123 ,  0.89715713,  0.84434479,  0.9576829 ,  0.90386608,\n",
       "                          -0.6555242 ,  0.36395491,  0.9342    ,  0.92004344,  0.66684107,\n",
       "                          -0.64232894, -0.66902849,  0.70897721,  0.98058307,  0.95335655,\n",
       "                           0.77976009,  0.95948964,  0.91319273,  0.97599674,  0.94699111,\n",
       "                           0.29666991, -0.4616612 ,  0.98185562, -0.5638495 ,  0.92098553,\n",
       "                           0.94405715,  0.95427213,  0.98385139,  0.97362465,  0.96332398,\n",
       "                          -0.18610249,  0.94219908,  0.94170526,  0.0702729 , -0.85536789,\n",
       "                          -0.10436285,  0.75024347,  0.97835474, -0.23111549,  0.94520311,\n",
       "                          -0.88949903, -0.76846268,  0.92150992,  0.86640091,  0.86774064,\n",
       "                           0.98818622,  0.99226584,  0.44300415,  0.97956784,  0.98601672,\n",
       "                           0.97290252,  0.87866619,  0.99383843,  0.0458758 ,  0.97789834,\n",
       "                          -0.84672749, -0.73276458,  0.55009906, -0.85277301,  0.73428248,\n",
       "                           0.99177258,  0.98908871,  0.95688262,  0.93058243,  0.86617855]),\n",
       "              'zmax': 1,\n",
       "              'zmin': -1}],\n",
       "    'layout': {'height': 600,\n",
       "               'template': '...',\n",
       "               'title': {'text': 'Correlation between CO2 emissions and GDP'},\n",
       "               'width': 800}\n",
       "})"
      ]
     },
     "execution_count": 21,
     "metadata": {},
     "output_type": "execute_result"
    }
   ],
   "source": [
    "globe = go.FigureWidget(data=go.Choropleth(\n",
    "    locations=countries,\n",
    "    z=emm_gdp[\"Rho\"],\n",
    "    locationmode='country names',\n",
    "    # text=countries,\n",
    "    marker=dict(line=dict(color='rgb(0,0,0)', width=1)),\n",
    "    colorscale='RdBu_r',\n",
    "    zmin=-1,\n",
    "    zmax=1,\n",
    "))\n",
    "\n",
    "globe.update_layout(\n",
    "    title='Correlation between CO2 emissions and GDP',\n",
    "    width=800,\n",
    "    height=600,\n",
    ")"
   ]
  },
  {
   "cell_type": "code",
   "execution_count": 10,
   "metadata": {},
   "outputs": [],
   "source": [
    "highest_gdp_idx, lowest_gdp_idx = np.argmax(emm_gdp[\"Rho\"]), np.argmin(emm_gdp[\"Rho\"])\n",
    "highest_gdp_country, lowest_gdp_country = emm_gdp.iloc[highest_gdp_idx,:], emm_gdp.iloc[lowest_gdp_idx,:]\n"
   ]
  },
  {
   "cell_type": "code",
   "execution_count": 11,
   "metadata": {},
   "outputs": [],
   "source": [
    "temp_gdp = pd.read_excel(\"Datasets\\GDP\\Correlation - GDP vs Temp.xlsx\", sheet_name=\"Correlation-Method 2\")\n",
    "countries = temp_gdp[\"Country\"]"
   ]
  },
  {
   "cell_type": "code",
   "execution_count": 15,
   "metadata": {},
   "outputs": [
    {
     "data": {
      "text/plain": [
       "(Continent        Europe\n",
       " Country      Montenegro\n",
       " Rho            0.949638\n",
       " Name: 99, dtype: object,\n",
       " Continent        Asia\n",
       " Country         Syria\n",
       " Rho         -0.859204\n",
       " Name: 143, dtype: object)"
      ]
     },
     "execution_count": 15,
     "metadata": {},
     "output_type": "execute_result"
    }
   ],
   "source": [
    "highest_temp_country, lowest_temp_country = temp_gdp.iloc[np.argmax(temp_gdp[\"Rho\"]),:], temp_gdp.iloc[np.argmin(temp_gdp[\"Rho\"]),:]\n",
    "\n",
    "highest_temp_country, lowest_temp_country"
   ]
  },
  {
   "cell_type": "code",
   "execution_count": 16,
   "metadata": {},
   "outputs": [
    {
     "data": {
      "application/vnd.jupyter.widget-view+json": {
       "model_id": "0620de1f33c74a8ca48d974eecc3ff49",
       "version_major": 2,
       "version_minor": 0
      },
      "text/plain": [
       "FigureWidget({\n",
       "    'data': [{'colorscale': [[0.0, 'rgb(103,0,31)'], [0.1, 'rgb(178,24,43)'],\n",
       "                             [0.2, 'rgb(214,96,77)'], [0.3, 'rgb(244,165,130)'],\n",
       "                             [0.4, 'rgb(253,219,199)'], [0.5, 'rgb(247,247,247)'],\n",
       "                             [0.6, 'rgb(209,229,240)'], [0.7, 'rgb(146,197,222)'],\n",
       "                             [0.8, 'rgb(67,147,195)'], [0.9, 'rgb(33,102,172)'],\n",
       "                             [1.0, 'rgb(5,48,97)']],\n",
       "              'locationmode': 'country names',\n",
       "              'locations': array(['Afghanistan', 'Albania', 'Algeria', 'Angola', 'Argentina', 'Armenia',\n",
       "                                  'Australia', 'Austria', 'Azerbaijan', 'Bahrain', 'Bangladesh',\n",
       "                                  'Barbados', 'Belarus', 'Belgium', 'Benin', 'Bolivia',\n",
       "                                  'Bosnia and Herzegovina', 'Botswana', 'Brazil', 'Bulgaria',\n",
       "                                  'Burkina Faso', 'Burundi', 'Cambodia', 'Cameroon', 'Canada',\n",
       "                                  'Cape Verde', 'Central African Republic', 'Chad', 'Chile', 'China',\n",
       "                                  'Colombia', 'Comoros', 'Congo', 'Costa Rica', \"Cote d'Ivoire\",\n",
       "                                  'Croatia', 'Cuba', 'Cyprus', 'Czechia', 'Democratic Republic of Congo',\n",
       "                                  'Denmark', 'Djibouti', 'Dominica', 'Dominican Republic', 'Ecuador',\n",
       "                                  'Egypt', 'El Salvador', 'Equatorial Guinea', 'Estonia', 'Eswatini',\n",
       "                                  'Ethiopia', 'Finland', 'France', 'Gabon', 'Gambia', 'Georgia',\n",
       "                                  'Germany', 'Ghana', 'Greece', 'Guatemala', 'Guinea', 'Guinea-Bissau',\n",
       "                                  'Haiti', 'Honduras', 'Hong Kong', 'Hungary', 'Iceland', 'India',\n",
       "                                  'Indonesia', 'Iran', 'Iraq', 'Ireland', 'Israel', 'Italy', 'Jamaica',\n",
       "                                  'Japan', 'Jordan', 'Kazakhstan', 'Kenya', 'Kuwait', 'Kyrgyzstan',\n",
       "                                  'Laos', 'Latvia', 'Lebanon', 'Lesotho', 'Liberia', 'Libya', 'Lithuania',\n",
       "                                  'Luxembourg', 'Madagascar', 'Malawi', 'Malaysia', 'Mali', 'Malta',\n",
       "                                  'Mauritania', 'Mauritius', 'Mexico', 'Moldova', 'Mongolia',\n",
       "                                  'Montenegro', 'Morocco', 'Mozambique', 'Myanmar', 'Namibia', 'Nepal',\n",
       "                                  'Netherlands', 'New Zealand', 'Nicaragua', 'Niger', 'Nigeria',\n",
       "                                  'North Korea', 'North Macedonia', 'Norway', 'Oman', 'Pakistan',\n",
       "                                  'Palestine', 'Panama', 'Paraguay', 'Peru', 'Philippines', 'Poland',\n",
       "                                  'Portugal', 'Puerto Rico', 'Qatar', 'Romania', 'Russia', 'Rwanda',\n",
       "                                  'Saint Lucia', 'Sao Tome and Principe', 'Saudi Arabia', 'Senegal',\n",
       "                                  'Serbia', 'Seychelles', 'Sierra Leone', 'Singapore', 'Slovakia',\n",
       "                                  'Slovenia', 'South Africa', 'South Korea', 'Spain', 'Sri Lanka',\n",
       "                                  'Sweden', 'Switzerland', 'Syria', 'Taiwan', 'Tajikistan', 'Tanzania',\n",
       "                                  'Thailand', 'Togo', 'Trinidad and Tobago', 'Tunisia', 'Turkey',\n",
       "                                  'Turkmenistan', 'Uganda', 'Ukraine', 'United Arab Emirates',\n",
       "                                  'United Kingdom', 'United States', 'Uruguay', 'Uzbekistan', 'Venezuela',\n",
       "                                  'Vietnam', 'World', 'Yemen', 'Zambia', 'Zimbabwe'], dtype=object),\n",
       "              'marker': {'line': {'color': 'rgb(0,0,0)', 'width': 1}},\n",
       "              'type': 'choropleth',\n",
       "              'uid': 'a252c13b-3cbb-49fe-8d0f-097ccc1f9307',\n",
       "              'z': array([ 0.62910506,  0.7035074 ,  0.70058658,  0.5603577 ,  0.51169525,\n",
       "                           0.57630248,  0.74868351,  0.6482716 ,  0.54602123,  0.73460653,\n",
       "                           0.81067404,  0.22330588,  0.50845099,  0.71874064,  0.88722319,\n",
       "                           0.74466221,  0.70431079,  0.74252354,  0.52989432,  0.61289854,\n",
       "                           0.87249523,  0.25851804,  0.8239499 ,  0.84378655,  0.75533772,\n",
       "                           0.21250223, -0.31039627,  0.78506183,  0.74640473,  0.77649818,\n",
       "                           0.72916976,  0.78597226,  0.60603369,  0.79170143,  0.9061607 ,\n",
       "                           0.4768447 ,  0.67163042,  0.43850693,  0.4114738 ,  0.8336466 ,\n",
       "                           0.71916408,  0.84003199,  0.44905503,  0.8310207 ,  0.66025491,\n",
       "                           0.72230602,  0.71484651,  0.26844866,  0.59628809,  0.68100779,\n",
       "                           0.90593672,  0.46194968,  0.70516005,  0.72684692,  0.75395535,\n",
       "                           0.68655064,  0.70545574,  0.80975521, -0.32616734,  0.74385298,\n",
       "                           0.83411815,  0.85087994,  0.74873592,  0.73986088,  0.72670297,\n",
       "                           0.69362617,  0.78591041,  0.81323571,  0.78769191,  0.50158872,\n",
       "                           0.75142252,  0.81242867,  0.80271165,  0.26689428,  0.14921598,\n",
       "                           0.7304085 ,  0.72605921,  0.67357777,  0.81152718,  0.5463652 ,\n",
       "                           0.84067835,  0.815922  ,  0.56617872,  0.51461542,  0.79907741,\n",
       "                           0.61883527, -0.25239802,  0.68756167,  0.80342792,  0.74955074,\n",
       "                           0.67331768,  0.78378243,  0.84251575,  0.91481156,  0.64432187,\n",
       "                           0.8765869 ,  0.63418488,  0.72081833,  0.75138285,  0.94963804,\n",
       "                           0.74833011,  0.94769824,  0.80090223,  0.72664156,  0.834593  ,\n",
       "                           0.71092513,  0.76965505,  0.77382397,  0.70386034,  0.51297589,\n",
       "                           0.13000143,  0.62292277,  0.53644982,  0.64278138,  0.84901841,\n",
       "                           0.78719302,  0.7867775 ,  0.76954339,  0.68669676,  0.84108696,\n",
       "                           0.67283521,  0.47591261, -0.00987151,  0.69094126,  0.54410273,\n",
       "                           0.55654953,  0.83745121,  0.57069431,  0.81335184,  0.39544138,\n",
       "                           0.85075044,  0.5785863 ,  0.83871062,  0.63123523,  0.75071071,\n",
       "                           0.71627785,  0.63513021,  0.60912123,  0.75702253,  0.31934142,\n",
       "                           0.78853876,  0.63924726,  0.65508246, -0.85920409,  0.70294097,\n",
       "                           0.81751405,  0.80468206,  0.7840743 ,  0.83458084,  0.21309722,\n",
       "                           0.6249833 ,  0.68242459,  0.74509663,  0.74023642,  0.15876032,\n",
       "                           0.72012069,  0.76984547,  0.75789065,  0.72543095,  0.85577333,\n",
       "                           0.03917286,  0.82832139,  0.87579916, -0.57620885,  0.60029555,\n",
       "                           0.15617147]),\n",
       "              'zmax': 1,\n",
       "              'zmin': -1}],\n",
       "    'layout': {'height': 600, 'template': '...', 'title': {'text': 'Correlation between GDP and Temp'}, 'width': 800}\n",
       "})"
      ]
     },
     "execution_count": 16,
     "metadata": {},
     "output_type": "execute_result"
    }
   ],
   "source": [
    "globe = go.FigureWidget(data=go.Choropleth(\n",
    "    locations=countries,\n",
    "    z=temp_gdp[\"Rho\"],\n",
    "    locationmode='country names',\n",
    "    # text=countries,\n",
    "    marker=dict(line=dict(color='rgb(0,0,0)', width=1)),\n",
    "    colorscale='RdBu',\n",
    "    zmin=-1,\n",
    "    zmax=1,\n",
    "))\n",
    "\n",
    "globe.update_layout(\n",
    "    title='Correlation between GDP and Temp',\n",
    "    width=800,\n",
    "    height=600,\n",
    ")"
   ]
  }
 ],
 "metadata": {
  "kernelspec": {
   "display_name": "ml_env",
   "language": "python",
   "name": "python3"
  },
  "language_info": {
   "codemirror_mode": {
    "name": "ipython",
    "version": 3
   },
   "file_extension": ".py",
   "mimetype": "text/x-python",
   "name": "python",
   "nbconvert_exporter": "python",
   "pygments_lexer": "ipython3",
   "version": "3.8.0"
  }
 },
 "nbformat": 4,
 "nbformat_minor": 2
}
